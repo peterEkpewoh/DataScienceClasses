{
 "cells": [
  {
   "cell_type": "markdown",
   "id": "c75cf94d-872c-48ec-8cf0-ae1bae0587a0",
   "metadata": {},
   "source": [
    "## Data Science Tools and Ecosystem\n"
   ]
  },
  {
   "cell_type": "markdown",
   "id": "f377858c-1012-48f8-b35a-86a8b9250d08",
   "metadata": {},
   "source": [
    "In this notebook, Data Science Tools and Ecosystem are summarized"
   ]
  },
  {
   "cell_type": "markdown",
   "id": "ec848bab-1215-4cfc-bfb1-7c1e6ed71ba8",
   "metadata": {},
   "source": [
    "Some of the popular languages that Data Scientists use are:\n",
    "1. Python\n",
    "2. Java\n",
    "3. R"
   ]
  },
  {
   "cell_type": "markdown",
   "id": "165f40af-8c10-4a92-84d2-6fbbd5d91081",
   "metadata": {},
   "source": [
    "Some of the commonly used libraries used by Data Scientists include:\n",
    "1. NumPy\n",
    "2. Panda\n",
    "3. MatplotLib"
   ]
  },
  {
   "cell_type": "markdown",
   "id": "ff197a03-2bda-441f-8d09-8d54e2908cb1",
   "metadata": {},
   "source": [
    "|Data Science Tools|\n",
    "|--------------------|\n",
    "|Jupyter Notebooks|\n",
    "|Spyder|\n",
    "Jupyter Lab|"
   ]
  },
  {
   "cell_type": "markdown",
   "id": "2d179fac-98a8-4eaf-8708-7aab415a0ac8",
   "metadata": {},
   "source": [
    "### Below are a few examples of evaluating arithmetic expressions in Python\n"
   ]
  },
  {
   "cell_type": "code",
   "execution_count": 1,
   "id": "d330827a-b4a1-4a01-9dbf-35c0d1e74f25",
   "metadata": {},
   "outputs": [
    {
     "name": "stdout",
     "output_type": "stream",
     "text": [
      "17\n"
     ]
    }
   ],
   "source": [
    "def multiply(a,b,c):\n",
    "    return a*b+c\n",
    "\n",
    "print(multiply(3,5,2))"
   ]
  },
  {
   "cell_type": "code",
   "execution_count": 3,
   "id": "7b76c37d-568e-4372-b4ce-dd297d361820",
   "metadata": {},
   "outputs": [
    {
     "name": "stdout",
     "output_type": "stream",
     "text": [
      "3.3333333333333335\n"
     ]
    }
   ],
   "source": [
    "def min_to_hour(a):\n",
    "    return a/60\n",
    "\n",
    "min = 200\n",
    "print(min_to_hour(min))\n",
    "    "
   ]
  },
  {
   "cell_type": "markdown",
   "id": "3c0b944e-b898-45cd-9819-d188052b8338",
   "metadata": {},
   "source": [
    "__Objectives__\n",
    "* Utilize Git Commands\n",
    "* Utilize Github for version control\n",
    "* Cloud based Jupyter Environments\n",
    "* List popular languages for Data Science"
   ]
  },
  {
   "cell_type": "markdown",
   "id": "b2758df5-19f4-435f-b80d-ab0c232ccc10",
   "metadata": {},
   "source": [
    "Author\n",
    "-\n",
    "Akpabio Peter Ekpewoh"
   ]
  },
  {
   "cell_type": "code",
   "execution_count": null,
   "id": "10a63842-f7fb-462d-a309-fe296310b65f",
   "metadata": {},
   "outputs": [],
   "source": []
  }
 ],
 "metadata": {
  "kernelspec": {
   "display_name": "Python 3 (ipykernel)",
   "language": "python",
   "name": "python3"
  },
  "language_info": {
   "codemirror_mode": {
    "name": "ipython",
    "version": 3
   },
   "file_extension": ".py",
   "mimetype": "text/x-python",
   "name": "python",
   "nbconvert_exporter": "python",
   "pygments_lexer": "ipython3",
   "version": "3.12.11"
  }
 },
 "nbformat": 4,
 "nbformat_minor": 5
}
